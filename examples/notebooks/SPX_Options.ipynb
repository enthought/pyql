{
 "metadata": {
  "name": "SPX_Options"
 },
 "nbformat": 3,
 "worksheets": [
  {
   "cells": [
    {
     "cell_type": "markdown",
     "source": [
      "Standardized Option Quotes Data Format\n",
      "======================================\n",
      "\n",
      "To facilitate model calibration, a standard input format has been defined, which contains all the\n",
      "necessary data. The data is held in a [Panda](http://pandas.pydata.org) table, with one row per quote and\n",
      "8 columns, as follows:\n",
      "\n",
      "* dtTrade: Quote date, or time stamp\n",
      "* Strike: Ditto\n",
      "* dtExpiry: Option expiry date\n",
      "* CP: Call/Put flag, coded as C/P or Call/Put\n",
      "* Spot: Price of underlying asset\n",
      "* Type: European/American\n",
      "* PBid: Bid price\n",
      "* PAsk: Ask price\n",
      "\n",
      "Note that we do not include the dividend yield nor the risk-free rate in the data set: The \n",
      "implied forward price and risk-free rate are estimated from the call/put parity.\n",
      "\n",
      "SPX Option Data Processing\n",
      "--------------------------\n",
      "\n",
      "As an illustration, we provide below the procedure for converting raw SPX option data, as published by the [CBOE](http://www.cboe.com/DelayedQuote/QuoteTableDownload.aspx), into the standard input format.\n",
      "\n",
      "### SPX Utility functions\n",
      "\n",
      "These functions parse the SPX option names, and extract expiry date and strike.\n"
     ]
    },
    {
     "cell_type": "code",
     "input": [
      "import pandas\n",
      "import dateutil\n",
      "import re\n",
      "\n",
      "def ExpiryMonth(s):\n",
      "    \"\"\"\n",
      "    SPX contract months\n",
      "    \"\"\"\n",
      "    call_months = \"ABCDEFGHIJKL\"\n",
      "    put_months = \"MNOPQRSTUVWX\"\n",
      "\n",
      "    try:\n",
      "        m = call_months.index(s)\n",
      "    except ValueError:\n",
      "        m = put_months.index(s)\n",
      "\n",
      "    return m\n",
      "\n",
      "spx_symbol = re.compile(\"\\\\(SPX(1[0-9])([0-9]{2})([A-Z])([0-9]{3,4})-E\\\\)\")\n",
      "\n",
      "def parseSPX(s):\n",
      "    \"\"\"\n",
      "    Parse an SPX quote string, return expiry date and strike\n",
      "    \"\"\"\n",
      "    tokens = spx_symbol.split(s)\n",
      "\n",
      "    if len(tokens) == 1:\n",
      "        return {'dtExpiry': None, 'strike': -1}\n",
      "\n",
      "    year = 2000 + int(tokens[1])\n",
      "    day = int(tokens[2])\n",
      "    month = ExpiryMonth(tokens[3])\n",
      "    strike = float(tokens[4])\n",
      "\n",
      "    dtExpiry = datetime.date(year, month, day)\n",
      "\n",
      "    return ({'dtExpiry': dtExpiry, 'strike': strike})\n",
      "\n"
     ],
     "language": "python",
     "outputs": [],
     "prompt_number": 1
    },
    {
     "cell_type": "markdown",
     "source": [
      "### Reading the SPX raw data file\n",
      "\n",
      "The csv file downloaded from the CBOE site can be converted into a standard panda table by the following function. "
     ]
    },
    {
     "cell_type": "code",
     "input": [
      "def read_SPX_file(option_data_file):\n",
      "    \"\"\"\n",
      "    Read SPX csv file, return spot and data frame of option quotes\n",
      "    \"\"\"\n",
      "    \n",
      "    # read two lines for spot price and trade date\n",
      "    fid = open(option_data_file)\n",
      "    lineOne = fid.readline()\n",
      "    spot = eval(lineOne.split(',')[1])\n",
      "    \n",
      "    lineTwo = fid.readline()\n",
      "    dt = lineTwo.split('@')[0]\n",
      "    dtTrade = dateutil.parser.parse(dt).date()\n",
      "    \n",
      "    print('Dt Calc: %s Spot: %f' % (dtTrade, spot))\n",
      "    fid.close()\n",
      "    \n",
      "    # read all option price records as a data frame\n",
      "    \n",
      "    df = pandas.io.parsers.read_csv(option_data_file, header=2, \\\n",
      "         skiprows=(0,1), sep=',')\n",
      "    \n",
      "    # split and stack calls and puts\n",
      "    \n",
      "    call_df = df[['Calls', 'Bid', 'Ask']]\n",
      "    call_df = call_df.rename(columns={'Calls':'Spec', 'Bid':'PBid', 'Ask': 'PAsk'}) \n",
      "    call_df['Type'] = 'C'\n",
      "    \n",
      "    put_df = df[['Puts', 'Bid.1', 'Ask.1']]\n",
      "    put_df = put_df.rename(columns = {'Puts':'Spec', 'Bid.1':'PBid',\n",
      "    'Ask.1':'PAsk'}) \n",
      "    put_df['Type'] = 'P'\n",
      "        \n",
      "    df_all = call_df.append(put_df,  ignore_index=True)\n",
      "    \n",
      "    # parse Calls and Puts columns for strike and contract month\n",
      "    # insert into data frame\n",
      "    \n",
      "    cp = [parseSPX(s) for s in df_all['Spec']]\n",
      "    df_all['Strike'] = [x['strike'] for x in cp]\n",
      "    df_all['dtExpiry'] = [x['dtExpiry'] for x in cp]\n",
      "    \n",
      "    del df_all['Spec']\n",
      "    \n",
      "    df_all = df_all[(df_all['Strike'] > 0) & (df_all['PBid']>0) \\\n",
      "                    & (df_all['PAsk']>0)]\n",
      "                    \n",
      "    df_all['dtTrade'] = dtTrade\n",
      "    df_all['Spot'] = spot\n",
      "    \n",
      "    return df_all\n",
      "\n",
      "option_data_file = \\\n",
      "    '../data/SPX-Options-24jan2011.csv'\n",
      "\n",
      "if __name__ == '__main__':\n",
      "    df_SPX = read_SPX_file(option_data_file)\n",
      "    print '%d records processed' % len(df_SPX)\n",
      "    \n",
      "    # save a csv file and pickled data frame\n",
      "    df_SPX.to_csv('../data/df_SPX_24jan2011.csv', index=False)\n",
      "    df_SPX.save('../data/df_SPX_24jan2011.pkl')\n",
      "\n",
      "    \n"
     ],
     "language": "python",
     "outputs": [
      {
       "output_type": "stream",
       "stream": "stdout",
       "text": [
        "Dt Calc: 2011-01-24 Spot: 1290.590000\n",
        "1472 records processed"
       ]
      },
      {
       "output_type": "stream",
       "stream": "stdout",
       "text": [
        "\n"
       ]
      }
     ],
     "prompt_number": 2
    }
   ]
  }
 ]
}