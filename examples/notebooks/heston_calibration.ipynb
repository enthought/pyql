{
 "metadata": {
  "name": ""
 },
 "nbformat": 3,
 "nbformat_minor": 0,
 "worksheets": [
  {
   "cells": [
    {
     "cell_type": "markdown",
     "metadata": {},
     "source": [
      "Calibration of Heston's Model on SPX data\n",
      "=======================================\n",
      "\n",
      "This notebook demonstrates the calibration of Heston's model on SPX data, using the QuantLib *HestonModel* class. \n",
      "The code is adapted from the test suite written by Klaus Spandersen.\n",
      "\n",
      "The calibration function takes as input a `pandas.DataFrame` constructed in notebook OptionQuotes.\n",
      "\n",
      "QuantLib dependencies\n",
      "---------------------"
     ]
    },
    {
     "cell_type": "code",
     "collapsed": false,
     "input": [
      "import numpy as np\n",
      "import pandas\n",
      "from pandas import DataFrame\n",
      "import datetime\n",
      "\n",
      "from quantlib.models.equity.heston_model import (\n",
      "    HestonModelHelper, HestonModel, ImpliedVolError)\n",
      "\n",
      "from quantlib.processes.heston_process import HestonProcess\n",
      "from quantlib.pricingengines.api import AnalyticHestonEngine\n",
      "from quantlib.math.optimization import LevenbergMarquardt, EndCriteria\n",
      "from quantlib.settings import Settings\n",
      "from quantlib.time.api import Period, Date, Actual365Fixed, TARGET, Days\n",
      "from quantlib.quotes import SimpleQuote\n",
      "from quantlib.termstructures.yields.zero_curve import ZeroCurve\n",
      "\n",
      "from quantlib.util.converter import pydate_to_qldate, df_to_zero_curve\n",
      "import quantlib.reference.names as nm"
     ],
     "language": "python",
     "metadata": {},
     "outputs": [],
     "prompt_number": 1
    },
    {
     "cell_type": "markdown",
     "metadata": {},
     "source": [
      "Utility functions\n",
      "-----------------\n",
      "\n",
      "The calibration process uses some utility functions, defined below.\n",
      "The main task is to convert the data into a set of helper objects, one per data point (bid and ask prices)."
     ]
    },
    {
     "cell_type": "code",
     "collapsed": false,
     "input": [
      "def heston_helpers(df_option, df_rates):\n",
      "    \"\"\"\n",
      "    Create array of heston options helpers\n",
      "    \"\"\"\n",
      "\n",
      "    trade_date = df_option[nm.TRADE_DATE].ix[0]\n",
      "    settlement_date = pydate_to_qldate(trade_date)\n",
      "    \n",
      "    settings = Settings()\n",
      "    settings.evaluation_date = settlement_date\n",
      "\n",
      "    calendar = TARGET()\n",
      "\n",
      "    # convert data frame (date/value) into zero curve\n",
      "    # expect the index to be a date, and 1 column of values\n",
      "\n",
      "    risk_free_ts = df_to_zero_curve(df_rates['iRate'], trade_date)\n",
      "    dividend_ts = df_to_zero_curve(df_rates[nm.DIVIDEND_YIELD], trade_date)\n",
      "\n",
      "    # loop through rows in option data frame, construct\n",
      "    # helpers for bid/ask\n",
      "\n",
      "    \n",
      "    options = []\n",
      "    for index, row in df_option.T.iteritems():\n",
      "\n",
      "        strike = row[nm.STRIKE]\n",
      "        spot = row[nm.SPOT]\n",
      "        if (strike/spot > 1.3) | (strike/spot < .7):\n",
      "            continue\n",
      "        \n",
      "        expiry_date = row[nm.EXPIRY_DATE]\n",
      "        \n",
      "        days = (expiry_date - trade_date).days\n",
      "        maturity = Period(days, Days)\n",
      "\n",
      "        options.append(\n",
      "                HestonModelHelper(\n",
      "                    maturity, calendar, spot,\n",
      "                    strike, SimpleQuote(row['IVBid']),\n",
      "                    risk_free_ts, dividend_ts,\n",
      "                    ImpliedVolError))\n",
      "        \n",
      "        options.append(\n",
      "                HestonModelHelper(\n",
      "                    maturity, calendar, spot,\n",
      "                    strike, SimpleQuote(row['IVAsk']),\n",
      "                    risk_free_ts, dividend_ts,\n",
      "                    ImpliedVolError))\n",
      "\n",
      "    return {'options':options, 'spot': spot}"
     ],
     "language": "python",
     "metadata": {},
     "outputs": [],
     "prompt_number": 2
    },
    {
     "cell_type": "markdown",
     "metadata": {},
     "source": [
      "The function merge_df merges the result of the calibration (fitted option price and fitted implied volatility)\n",
      "with the input data set. This will facilitate the plotting of actual vs. fitted volatility."
     ]
    },
    {
     "cell_type": "code",
     "collapsed": false,
     "input": [
      "def merge_df(df_option, options, model_name):\n",
      "    df_output = DataFrame.filter(df_option,\n",
      "                items=['dtTrade', 'dtExpiry',\n",
      "                       'Type', 'Strike', 'Mid',\n",
      "                       'QuickDelta', 'IVBid', 'IVAsk',\n",
      "                       'iRate', 'dRate', 'ATMVol', 'Fwd'])\n",
      "\n",
      "    model_value = np.zeros(len(df_option))\n",
      "    model_iv = np.zeros(len(df_option))\n",
      "    for i, j in zip(range(len(df_option)), range(0, len(options),2)):\n",
      "        model_value[i] = options[j].model_value()\n",
      "        model_iv[i] = options[j].impliedVolatility(model_value[i],\n",
      "            accuracy=1.e-5, maxEvaluations=5000,\n",
      "            minVol=.01, maxVol=10.0)\n",
      "\n",
      "    df_output[model_name + '-Value'] = model_value\n",
      "    df_output[model_name + '-IV'] = model_iv\n",
      "    \n",
      "    return df_output"
     ],
     "language": "python",
     "metadata": {},
     "outputs": [],
     "prompt_number": 3
    },
    {
     "cell_type": "markdown",
     "metadata": {},
     "source": [
      "The calibration process\n",
      "-----------------------\n",
      "\n",
      "The calibration process is performed by the following function."
     ]
    },
    {
     "cell_type": "code",
     "collapsed": false,
     "input": [
      "def heston_calibration(df_option, ival=None):\n",
      "    \"\"\"\n",
      "    calibrate heston model\n",
      "    \"\"\"\n",
      "\n",
      "    # extract rates and div yields from the data set    \n",
      "    df_tmp = DataFrame.filter(df_option, items=['dtExpiry', 'iRate', nm.DIVIDEND_YIELD])\n",
      "    \n",
      "    grouped = df_tmp.groupby('dtExpiry')\n",
      "    \n",
      "    def aggregate(serie):\n",
      "        return serie[serie.index[0]]\n",
      "    \n",
      "    df_rates = grouped.agg(aggregate)\n",
      "    \n",
      "    trade_date = df_option[nm.TRADE_DATE][0]\n",
      "    expiry_date = df_option[nm.EXPIRY_DATE][0]\n",
      "    \n",
      "    spot = df_option[nm.SPOT][0]\n",
      "    \n",
      "    # build array of option helpers\n",
      "    hh = heston_helpers(df_option, df_rates)\n",
      "    options = hh['options']\n",
      "    spot = hh['spot']\n",
      "\n",
      "    risk_free_ts = df_to_zero_curve(df_rates[nm.INTEREST_RATE], trade_date)\n",
      "    dividend_ts = df_to_zero_curve(df_rates[nm.DIVIDEND_YIELD], trade_date)\n",
      "\n",
      "    # initial values for parameters\n",
      "    if ival is None:\n",
      "        ival = {'v0': 0.1, 'kappa': 1.0, 'theta': 0.1,\n",
      "        'sigma': 0.5, 'rho': -.5}\n",
      "\n",
      "    process = HestonProcess(\n",
      "        risk_free_ts, dividend_ts, SimpleQuote(spot), ival['v0'], ival['kappa'],\n",
      "         ival['theta'], ival['sigma'], ival['rho'])\n",
      "\n",
      "    model = HestonModel(process)\n",
      "    engine = AnalyticHestonEngine(model, 64)\n",
      "\n",
      "    for option in options:\n",
      "        option.set_pricing_engine(engine)\n",
      "\n",
      "    om = LevenbergMarquardt(1e-8, 1e-8, 1e-8)\n",
      "    model.calibrate(\n",
      "        options, om, EndCriteria(400, 40, 1.0e-8, 1.0e-8, 1.0e-8)\n",
      "    )\n",
      "\n",
      "    print('model calibration results:')\n",
      "    print('v0: %f kappa: %f theta: %f sigma: %f rho: %f' %\n",
      "          (model.v0, model.kappa, model.theta, model.sigma,\n",
      "           model.rho))\n",
      "\n",
      "    calib_error = (1.0/len(options)) * sum(\n",
      "        [pow(o.calibration_error()*100.0,2) for o in options])\n",
      "\n",
      "    print('SSE: %f' % calib_error)\n",
      "\n",
      "    # merge the fitted volatility and the input data set\n",
      "    return merge_df(df_option, options, 'Heston')"
     ],
     "language": "python",
     "metadata": {},
     "outputs": [],
     "prompt_number": 4
    },
    {
     "cell_type": "markdown",
     "metadata": {},
     "source": [
      "Calibration\n",
      "-----------\n",
      "\n",
      "Finally, the calibration is performed by first loading the option data and calling the calibration routine.\n"
     ]
    },
    {
     "cell_type": "code",
     "collapsed": false,
     "input": [
      "df_options = pandas.load('df_options_SPX_24jan2011.pkl')\n",
      "df_heston_cal = heston_calibration(df_options)"
     ],
     "language": "python",
     "metadata": {},
     "outputs": [
      {
       "output_type": "stream",
       "stream": "stdout",
       "text": [
        "model calibration results:\n",
        "v0: 0.051965 kappa: 0.977303 theta: 0.102573 sigma: 0.987787 rho: -0.747035\n",
        "SSE: 0.935261\n"
       ]
      }
     ],
     "prompt_number": 5
    },
    {
     "cell_type": "markdown",
     "metadata": {},
     "source": [
      "Plot Actual vs. Fitted Implied Volatility\n",
      "-----------------------------------------\n",
      "\n",
      "We display 4 graphs in one plot, and show the bid/ask market volatility with the fitted volatility\n",
      "for selected maturities."
     ]
    },
    {
     "cell_type": "code",
     "collapsed": false,
     "input": [
      "def calibration_subplot(ax, group, i, model_name):\n",
      "    group = group.sort_index(by='Strike')\n",
      "    dtExpiry = group.get_value(group.index[0], 'dtExpiry')\n",
      "    K = group['Strike']\n",
      "    VB = group['IVBid']\n",
      "    VA = group['IVAsk']\n",
      "    VM = group[model_name + '-IV']\n",
      "\n",
      "    ax.plot(K, VA, 'b.', K,VB,'b.', K,VM,'r-')\n",
      "    if i==3:\n",
      "        ax.set_xlabel('Strike')\n",
      "    if i==0:\n",
      "        ax.set_ylabel('Implied Vol')\n",
      "    ax.text(.6,.8,'%s' % dtExpiry, transform=ax.transAxes)\n",
      "    \n",
      "def calibration_plot(title, df_calibration, model_name):\n",
      "    df_calibration = DataFrame.filter(df_calibration,\n",
      "                    items=['dtExpiry', \n",
      "                           'Strike', 'IVBid', 'IVAsk',\n",
      "                           'TTM', model_name+'-IV'])\n",
      "\n",
      "    # group by maturity\n",
      "    grouped = df_calibration.groupby('dtExpiry')\n",
      "\n",
      "    all_groups = [(dt, g) for dt, g in grouped]\n",
      "    \n",
      "    xy = [(0,0), (0,1), (1,0), (1,1)]\n",
      "\n",
      "    for k in range(0, len(all_groups),4):\n",
      "        if (k+4) >= len(all_groups):\n",
      "            break\n",
      "        plt.figure()\n",
      "        fig, axs = plt.subplots(2, 2, sharex=True, sharey=True)\n",
      "\n",
      "        for i in range(4):\n",
      "            x,y = xy[i]\n",
      "            calibration_subplot(axs[x,y], all_groups[i+k][1],i, model_name)"
     ],
     "language": "python",
     "metadata": {},
     "outputs": [],
     "prompt_number": 6
    },
    {
     "cell_type": "code",
     "collapsed": false,
     "input": [
      "dtTrade = df_options['dtTrade'][0]\n",
      "title = 'Heston Model (%s)' % dtTrade\n",
      "calibration_plot(title, df_heston_cal, 'Heston')"
     ],
     "language": "python",
     "metadata": {},
     "outputs": [
      {
       "metadata": {},
       "output_type": "display_data",
       "text": [
        "<matplotlib.figure.Figure at 0x4605d90>"
       ]
      },
      {
       "metadata": {},
       "output_type": "display_data",
       "png": "[encoded data removed]",
       "text": [
        "<matplotlib.figure.Figure at 0x4624550>"
       ]
      },
      {
       "metadata": {},
       "output_type": "display_data",
       "text": [
        "<matplotlib.figure.Figure at 0x46bbb50>"
       ]
      },
      {
       "metadata": {},
       "output_type": "display_data",
       "png": "[encoded data removed]",
       "text": [
        "<matplotlib.figure.Figure at 0x4a4a310>"
       ]
      }
     ],
     "prompt_number": 7
    }
   ],
   "metadata": {}
  }
 ]
}