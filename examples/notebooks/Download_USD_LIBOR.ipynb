{
 "metadata": {
  "name": ""
 },
 "nbformat": 3,
 "nbformat_minor": 0,
 "worksheets": [
  {
   "cells": [
    {
     "cell_type": "markdown",
     "metadata": {},
     "source": [
      "Time Series of US Deposit and Swap Rates\n",
      "========================================\n",
      "\n",
      "This notebook demonstrates how to download time series of USD deposit and swap rates from the US Federal Reserve Board web site. \n",
      "\n",
      "The data is obtained from the site www.federalreserve.gov. The time series can be downloaded from a web browser, but they can also be downloaded programmatically. The site provides directions on how to construct the URL corresponding to each particular data set. In the example below, the URL is specific to the H15 table, with all available deposit and swap rates included.\n",
      "\n",
      "In this notebook, we download 11 years of daily data, from January 2000 to December 2011. The data is stored in a pandas DataFrame for further processing."
     ]
    },
    {
     "cell_type": "code",
     "collapsed": false,
     "input": [
      "import os, urllib, datetime, pandas\n",
      "import numpy as np\n",
      "import math\n",
      "\n",
      "from pandas.io.parsers import read_csv\n",
      "from datetime import date"
     ],
     "language": "python",
     "metadata": {},
     "outputs": [],
     "prompt_number": 1
    },
    {
     "cell_type": "heading",
     "level": 2,
     "metadata": {},
     "source": [
      "Utility functions"
     ]
    },
    {
     "cell_type": "code",
     "collapsed": false,
     "input": [
      "def get_frb_url(dtStart, dtEnd):\n",
      "    \"\"\"\n",
      "    Federal Reserve Board URL\n",
      "    Construct this URL at 'http://www.federalreserve.gov/datadownload\n",
      "    \"\"\"\n",
      "    \n",
      "    url = 'http://www.federalreserve.gov/datadownload/Output.aspx?rel=H15&series=8f47c9df920bbb475f402efa44f35c29&lastObs=&from=%s&to=%s&filetype=csv&label=include&layout=seriescolumn' % (dtStart.strftime('%m/%d/%Y'), dtEnd.strftime('%m/%d/%Y'))\n",
      "    return url\n",
      "\n",
      "def dataconverter(s):\n",
      "    \"\"\"\n",
      "    The FRB data file has \n",
      "    - numeric cells\n",
      "    - empty cells\n",
      "    - cells with 'NC' or 'ND'\n",
      "    \"\"\"\n",
      "    try:\n",
      "        res = float(s)\n",
      "    except:\n",
      "        res = np.nan\n",
      "    return res\n",
      "\n",
      "def good_row(z):\n",
      "    \"\"\"\n",
      "    Retain days with no gaps (0 or NaN) in data\n",
      "    \"\"\"\n",
      "\n",
      "    try:\n",
      "        res = not ((z.isnull()) | (z == 0)).any()\n",
      "    except:\n",
      "        res = False\n",
      "    return res"
     ],
     "language": "python",
     "metadata": {},
     "outputs": [],
     "prompt_number": 2
    },
    {
     "cell_type": "heading",
     "level": 2,
     "metadata": {},
     "source": [
      "Download or read the data, convert to data frame and save  "
     ]
    },
    {
     "cell_type": "code",
     "collapsed": false,
     "input": [
      "\n",
      "fname = os.path.join('..', 'data', 'frb_h15.csv')\n",
      "\n",
      "if not os.path.isfile(fname):\n",
      "    url = get_frb_url(dtStart=date(2000,1,1),\n",
      "                          dtEnd=date(2011,12,20))\n",
      "    frb_site = urllib.urlopen(url)\n",
      "    text = frb_site.read().strip()\n",
      "\n",
      "    f = open(fname, 'w')\n",
      "    f.write(text)\n",
      "    f.close()\n",
      "\n",
      "# simpler labels\n",
      "columns_dic = {\"RIFLDIY01_N.B\":'Swap1Y',\n",
      "               \"RIFLDIY02_N.B\":'Swap2Y',\n",
      "               \"RIFLDIY03_N.B\":'Swap3Y',\n",
      "               \"RIFLDIY04_N.B\":'Swap4Y',\n",
      "               \"RIFLDIY05_N.B\":'Swap5Y',\n",
      "               \"RIFLDIY07_N.B\":'Swap7Y',\n",
      "               \"RIFLDIY10_N.B\":'Swap10Y',\n",
      "               \"RIFLDIY30_N.B\":'Swap30Y',\n",
      "               \"RILSPDEPM01_N.B\":'Libor1M',\n",
      "               \"RILSPDEPM03_N.B\":'Libor3M',\n",
      "               \"RILSPDEPM06_N.B\":'Libor6M'}\n",
      "\n",
      "# the data converter is applied to all columns\n",
      "# excluding the index column (0)\n",
      "\n",
      "dc_dict = {i: dataconverter for i\n",
      "        in range(1,len(columns_dic) +1)}\n",
      "\n",
      "# read the csv file and convert to a DataFrame\n",
      "\n",
      "df_libor = read_csv(fname, sep=',', header=0,\n",
      "                    index_col=0, parse_dates=True,\n",
      "                    converters=dc_dict,\n",
      "                    skiprows=[0,1,2,3,4])\n",
      "\n",
      "# change column names, remove rows with NaN and save data frame\n",
      "    \n",
      "df_libor = df_libor.rename(columns=columns_dic)\n",
      "good_rows = df_libor.apply(good_row, axis=1)\n",
      "df_libor_good = df_libor[good_rows]\n",
      "print(df_libor_good)\n",
      "\n",
      "df_libor_good.save(os.path.join('..', 'data', 'df_libor.pkl'))"
     ],
     "language": "python",
     "metadata": {},
     "outputs": [
      {
       "output_type": "stream",
       "stream": "stdout",
       "text": [
        "<class 'pandas.core.frame.DataFrame'>\n",
        "DatetimeIndex: 2858 entries, 2000-07-03 00:00:00 to 2011-12-20 00:00:00\n",
        "Data columns:\n",
        "Swap1Y     2858  non-null values\n",
        "Swap2Y     2858  non-null values\n",
        "Swap3Y     2858  non-null values\n",
        "Swap4Y     2858  non-null values\n",
        "Swap5Y     2858  non-null values\n",
        "Swap7Y     2858  non-null values\n",
        "Swap10Y    2858  non-null values\n",
        "Swap30Y    2858  non-null values\n",
        "Libor1M    2858  non-null values\n",
        "Libor3M    2858  non-null values\n",
        "Libor6M    2858  non-null values\n",
        "dtypes: float64(11)\n"
       ]
      }
     ],
     "prompt_number": 3
    }
   ],
   "metadata": {}
  }
 ]
}